{
  "cells": [
    {
      "cell_type": "markdown",
      "metadata": {
        "id": "vN99YjPTDena"
      },
      "source": [
        "# Polynomial Regression"
      ]
    },
    {
      "cell_type": "markdown",
      "metadata": {
        "id": "ZIx_naXnDyHd"
      },
      "source": [
        "## Importing the libraries"
      ]
    },
    {
      "cell_type": "code",
      "execution_count": 1,
      "metadata": {
        "id": "P-iFRu1bwGxi"
      },
      "outputs": [],
      "source": [
        "import numpy as np\n",
        "import matplotlib.pyplot as plt\n",
        "import pandas as pd"
      ]
    },
    {
      "cell_type": "markdown",
      "metadata": {
        "id": "6c8YExmOD5x5"
      },
      "source": [
        "## Importing the dataset"
      ]
    },
    {
      "cell_type": "code",
      "execution_count": 2,
      "metadata": {
        "id": "SC2N0wPgwVph"
      },
      "outputs": [],
      "source": [
        "dataset = pd.read_csv('Position_Salaries.csv')\n",
        "x = dataset.iloc[:, 1:-1].values\n",
        "y = dataset.iloc[:, -1].values"
      ]
    },
    {
      "cell_type": "markdown",
      "metadata": {
        "id": "Le8SEL-YEOLb"
      },
      "source": [
        "## Training the Linear Regression model on the whole dataset"
      ]
    },
    {
      "cell_type": "code",
      "execution_count": 3,
      "metadata": {
        "colab": {
          "base_uri": "https://localhost:8080/"
        },
        "id": "0z9Z2LOV2dpj",
        "outputId": "188d7dc7-3a78-4829-943b-c0e61d4454dd"
      },
      "outputs": [
        {
          "data": {
            "text/plain": [
              "LinearRegression()"
            ]
          },
          "execution_count": 3,
          "metadata": {},
          "output_type": "execute_result"
        }
      ],
      "source": [
        "from sklearn.linear_model import LinearRegression\n",
        "lin_reg = LinearRegression()\n",
        "lin_reg.fit(x,y)"
      ]
    },
    {
      "cell_type": "markdown",
      "metadata": {
        "id": "Rb5nWuSHEfBV"
      },
      "source": [
        "## Training the Polynomial Regression model on the whole dataset"
      ]
    },
    {
      "cell_type": "code",
      "execution_count": 4,
      "metadata": {
        "colab": {
          "base_uri": "https://localhost:8080/"
        },
        "id": "lla98Rlj2uAH",
        "outputId": "3849cfc0-6cf6-4712-c4a9-91f97f0bfb87"
      },
      "outputs": [
        {
          "data": {
            "text/plain": [
              "LinearRegression()"
            ]
          },
          "execution_count": 4,
          "metadata": {},
          "output_type": "execute_result"
        }
      ],
      "source": [
        "from sklearn.preprocessing import PolynomialFeatures\n",
        "# The degree of PolynomialFeatures can try 2,3,4...\n",
        "poly_reg = PolynomialFeatures(degree = 4)\n",
        "x_poly = poly_reg.fit_transform(x)\n",
        "lin_reg_2 = LinearRegression()\n",
        "lin_reg_2.fit(x_poly, y)\n",
        "\n"
      ]
    },
    {
      "cell_type": "markdown",
      "metadata": {
        "id": "0O8R0tzbEpvy"
      },
      "source": [
        "## Visualising the Linear Regression results"
      ]
    },
    {
      "cell_type": "code",
      "execution_count": 5,
      "metadata": {
        "colab": {
          "base_uri": "https://localhost:8080/",
          "height": 295
        },
        "id": "Q0xuIYt1NHoo",
        "outputId": "eff055ce-7162-49f9-bc19-cf54560c0945"
      },
      "outputs": [
        {
          "data": {
            "image/png": "[encoded data removed]",
            "text/plain": [
              "<Figure size 432x288 with 1 Axes>"
            ]
          },
          "metadata": {
            "needs_background": "light"
          },
          "output_type": "display_data"
        }
      ],
      "source": [
        "plt.scatter(x, y, color= 'red')\n",
        "plt.plot(x, lin_reg.predict(x), color= 'blue')\n",
        "plt.title('Truth or Bluff (Linear Regression)')\n",
        "plt.xlabel('Position Level')\n",
        "plt.ylabel('Salary')\n",
        "plt.show()"
      ]
    },
    {
      "cell_type": "markdown",
      "metadata": {
        "id": "stOnSo74E52m"
      },
      "source": [
        "## Visualising the Polynomial Regression results"
      ]
    },
    {
      "cell_type": "code",
      "execution_count": 6,
      "metadata": {
        "colab": {
          "base_uri": "https://localhost:8080/",
          "height": 295
        },
        "id": "8gjW2EqtOTXh",
        "outputId": "813bcb7c-cd96-49f2-b13a-189b15f44e2f"
      },
      "outputs": [
        {
          "data": {
            "image/png": "[encoded data removed]",
            "text/plain": [
              "<Figure size 432x288 with 1 Axes>"
            ]
          },
          "metadata": {
            "needs_background": "light"
          },
          "output_type": "display_data"
        }
      ],
      "source": [
        "plt.scatter(x, y, color= 'red')\n",
        "plt.plot(x, lin_reg_2.predict(x_poly), color= 'blue')\n",
        "plt.title('Truth or Bluff (Polynomial Regression)')\n",
        "plt.xlabel('Position Level')\n",
        "plt.ylabel('Salary')\n",
        "plt.show()"
      ]
    },
    {
      "cell_type": "markdown",
      "metadata": {
        "id": "OwyQzgVYThbu"
      },
      "source": [
        "### (ME) Testing degree of PolynomialFeatures Visualising results"
      ]
    },
    {
      "cell_type": "code",
      "execution_count": 7,
      "metadata": {
        "colab": {
          "base_uri": "https://localhost:8080/",
          "height": 295
        },
        "id": "im9S4W5FTz-2",
        "outputId": "b86178ec-1b40-44ee-f14a-482b9109f47e"
      },
      "outputs": [
        {
          "data": {
            "image/png": "[encoded data removed]",
            "text/plain": [
              "<Figure size 432x288 with 1 Axes>"
            ]
          },
          "metadata": {
            "needs_background": "light"
          },
          "output_type": "display_data"
        }
      ],
      "source": [
        "x_poly1 = PolynomialFeatures(degree = 1).fit_transform(x)\n",
        "x_poly2 = PolynomialFeatures(degree = 2).fit_transform(x)\n",
        "x_poly3 = PolynomialFeatures(degree = 3).fit_transform(x)\n",
        "x_poly4 = PolynomialFeatures(degree = 4).fit_transform(x)\n",
        "x_poly5 = PolynomialFeatures(degree = 5).fit_transform(x)\n",
        "x_poly6 = PolynomialFeatures(degree = 6).fit_transform(x)\n",
        "x_poly10 = PolynomialFeatures(degree = 10).fit_transform(x)\n",
        "\n",
        "lin_reg_2.fit(x_poly1, y)\n",
        "plt.plot(x, lin_reg_2.predict(x_poly1), color= 'black')\n",
        "lin_reg_2.fit(x_poly2, y)\n",
        "plt.plot(x, lin_reg_2.predict(x_poly2), color= 'orange')\n",
        "lin_reg_2.fit(x_poly3, y)\n",
        "plt.plot(x, lin_reg_2.predict(x_poly3), color= 'yellow')\n",
        "lin_reg_2.fit(x_poly4, y)\n",
        "plt.plot(x, lin_reg_2.predict(x_poly4), color= 'blue')\n",
        "lin_reg_2.fit(x_poly5, y)\n",
        "plt.plot(x, lin_reg_2.predict(x_poly5), color= 'grey')\n",
        "lin_reg_2.fit(x_poly6, y)\n",
        "plt.plot(x, lin_reg_2.predict(x_poly6), color= 'purple')\n",
        "lin_reg_2.fit(x_poly10, y)\n",
        "plt.plot(x, lin_reg_2.predict(x_poly10), color= 'green')\n",
        "\n",
        "# back to default(degree =4)\n",
        "lin_reg_2.fit(x_poly, y)\n",
        "# -----------------------------\n",
        "plt.scatter(x, y, color= 'red')\n",
        "plt.title('Truth or Bluff (Polynomial Regression)')\n",
        "plt.xlabel('Position Level')\n",
        "plt.ylabel('Salary')\n",
        "plt.show()"
      ]
    },
    {
      "cell_type": "markdown",
      "metadata": {
        "id": "U_qsAMKnE-PJ"
      },
      "source": [
        "## Visualising the Polynomial Regression results (for higher resolution and smoother curve)"
      ]
    },
    {
      "cell_type": "code",
      "execution_count": 8,
      "metadata": {
        "colab": {
          "base_uri": "https://localhost:8080/",
          "height": 295
        },
        "id": "GjCnD-ZcdSDs",
        "outputId": "03decada-9923-4f3e-e040-5e2373163889"
      },
      "outputs": [
        {
          "data": {
            "image/png": "[encoded data removed]",
            "text/plain": [
              "<Figure size 432x288 with 1 Axes>"
            ]
          },
          "metadata": {
            "needs_background": "light"
          },
          "output_type": "display_data"
        }
      ],
      "source": [
        "x_grid = np.arange(min(x), max(x), 0.1)\n",
        "x_grid = x_grid.reshape((len(x_grid), 1))\n",
        "\n",
        "plt.scatter(x, y, color= 'red')\n",
        "plt.plot(x_grid, lin_reg_2.predict(poly_reg.fit_transform(x_grid)), color= 'blue')\n",
        "plt.title('Truth or Bluff (Polynomial Regression)')\n",
        "plt.xlabel('Position Level')\n",
        "plt.ylabel('Salary')\n",
        "plt.show()"
      ]
    },
    {
      "cell_type": "markdown",
      "metadata": {
        "id": "diyJFZHhFFeK"
      },
      "source": [
        "## Predicting a new result with Linear Regression"
      ]
    },
    {
      "cell_type": "code",
      "execution_count": 9,
      "metadata": {
        "colab": {
          "base_uri": "https://localhost:8080/"
        },
        "id": "Ivyg35M5f49_",
        "outputId": "e3c70b14-da71-4b20-dd58-27c501c5ae80"
      },
      "outputs": [
        {
          "name": "stdout",
          "output_type": "stream",
          "text": [
            "[330378.78787879]\n"
          ]
        }
      ],
      "source": [
        "print(lin_reg.predict([[6.5]]))"
      ]
    },
    {
      "cell_type": "markdown",
      "metadata": {
        "id": "DW7I7ZVDFNkk"
      },
      "source": [
        "## Predicting a new result with Polynomial Regression"
      ]
    },
    {
      "cell_type": "code",
      "execution_count": 10,
      "metadata": {
        "colab": {
          "base_uri": "https://localhost:8080/"
        },
        "id": "MAFvp5erhFq_",
        "outputId": "a7946cb6-d33a-4ae0-b08d-2a1f49a6576f"
      },
      "outputs": [
        {
          "name": "stdout",
          "output_type": "stream",
          "text": [
            "[158862.45265153]\n"
          ]
        }
      ],
      "source": [
        "# print(poly_reg.fit_transform([[6.5]]))\n",
        "# print(lin_reg_2.predict([[1.0000000e+00,6.5000000e+00,4.2250000e+01,2.7462500e+02,1.7850625e+03]]))\n",
        "\n",
        "print(lin_reg_2.predict(poly_reg.fit_transform([[6.5]])))"
      ]
    }
  ],
  "metadata": {
    "colab": {
      "collapsed_sections": [
        "OwyQzgVYThbu"
      ],
      "name": "polynomial_regression.ipynb",
      "provenance": []
    },
    "kernelspec": {
      "display_name": "Python 3",
      "name": "python3"
    },
    "language_info": {
      "codemirror_mode": {
        "name": "ipython",
        "version": 3
      },
      "file_extension": ".py",
      "mimetype": "text/x-python",
      "name": "python",
      "nbconvert_exporter": "python",
      "pygments_lexer": "ipython3",
      "version": "3.8.8"
    }
  },
  "nbformat": 4,
  "nbformat_minor": 0
}
